{
 "cells": [
  {
   "cell_type": "markdown",
   "metadata": {},
   "source": [
    "# 14. This problem focuses on the collinearity problem\n"
   ]
  },
  {
   "cell_type": "code",
   "execution_count": 1,
   "metadata": {},
   "outputs": [],
   "source": [
    "import numpy as np\n",
    "import pandas as pd\n"
   ]
  },
  {
   "cell_type": "markdown",
   "metadata": {},
   "source": [
    "## (a) Perform the following commands in R"
   ]
  },
  {
   "cell_type": "code",
   "execution_count": 2,
   "metadata": {},
   "outputs": [],
   "source": [
    "np.random.seed(5)\n",
    "x1 = np.random.uniform(size = 100)\n",
    "x2 = 0.5*x1 + np.random.normal(size = 100) / 10\n",
    "y = 2 + 2*x1 + 0.3*x2 + np.random.normal(size = 100)"
   ]
  },
  {
   "cell_type": "code",
   "execution_count": 6,
   "metadata": {},
   "outputs": [],
   "source": [
    "import matplotlib.pyplot as plt\n",
    "import seaborn as sns"
   ]
  },
  {
   "cell_type": "markdown",
   "metadata": {},
   "source": [
    "## (b) What is the correlation between x1 and x2? Create a scatterplot displaying the relationship between the variables."
   ]
  },
  {
   "cell_type": "code",
   "execution_count": 7,
   "metadata": {},
   "outputs": [
    {
     "name": "stdout",
     "output_type": "stream",
     "text": [
      "          X1        X2         y\n",
      "X1  1.000000  0.819369  0.662657\n",
      "X2  0.819369  1.000000  0.583263\n",
      "y   0.662657  0.583263  1.000000\n"
     ]
    },
    {
     "data": {
      "text/plain": [
       "<matplotlib.axes._subplots.AxesSubplot at 0x2dfc6fc80c8>"
      ]
     },
     "execution_count": 7,
     "metadata": {},
     "output_type": "execute_result"
    },
    {
     "data": {
      "image/png": "[encoded data removed]",
      "text/plain": [
       "<Figure size 432x288 with 1 Axes>"
      ]
     },
     "metadata": {
      "needs_background": "light"
     },
     "output_type": "display_data"
    }
   ],
   "source": [
    "\n",
    "data = pd.DataFrame({'X1':x1,'X2':x2,'y':y})\n",
    "corr = data.corr()\n",
    "print(corr)\n",
    "sns.scatterplot(data['X1'],data['X2'])"
   ]
  },
  {
   "cell_type": "code",
   "execution_count": 8,
   "metadata": {},
   "outputs": [],
   "source": [
    "import statsmodels.formula.api as smf"
   ]
  },
  {
   "cell_type": "markdown",
   "metadata": {},
   "source": [
    "## c) Using this data, fit a least squares regression to predict y using x1 and x2. Describe the results obtained. What are βˆ0, βˆ1, and βˆ2? How do these relate to the true β0, β1, and β2? Can you reject the null hypothesis H0 : β1 = 0? How about the null hypothesis H0 : β2 = 0?"
   ]
  },
  {
   "cell_type": "code",
   "execution_count": 9,
   "metadata": {},
   "outputs": [
    {
     "name": "stdout",
     "output_type": "stream",
     "text": [
      "                            OLS Regression Results                            \n",
      "==============================================================================\n",
      "Dep. Variable:                      y   R-squared:                       0.444\n",
      "Model:                            OLS   Adj. R-squared:                  0.433\n",
      "Method:                 Least Squares   F-statistic:                     38.74\n",
      "Date:                Fri, 16 Oct 2020   Prob (F-statistic):           4.31e-13\n",
      "Time:                        22:00:15   Log-Likelihood:                -123.67\n",
      "No. Observations:                 100   AIC:                             253.3\n",
      "Df Residuals:                      97   BIC:                             261.1\n",
      "Df Model:                           2                                         \n",
      "Covariance Type:            nonrobust                                         \n",
      "==============================================================================\n",
      "                 coef    std err          t      P>|t|      [0.025      0.975]\n",
      "------------------------------------------------------------------------------\n",
      "Intercept      1.8158      0.162     11.231      0.000       1.495       2.137\n",
      "X1             2.0758      0.488      4.257      0.000       1.108       3.044\n",
      "X2             0.7584      0.817      0.929      0.355      -0.862       2.379\n",
      "==============================================================================\n",
      "Omnibus:                        0.718   Durbin-Watson:                   1.960\n",
      "Prob(Omnibus):                  0.698   Jarque-Bera (JB):                0.574\n",
      "Skew:                          -0.185   Prob(JB):                        0.750\n",
      "Kurtosis:                       2.981   Cond. No.                         12.5\n",
      "==============================================================================\n",
      "\n",
      "Warnings:\n",
      "[1] Standard Errors assume that the covariance matrix of the errors is correctly specified.\n"
     ]
    }
   ],
   "source": [
    "result = smf.ols('y~X1 + X2',data = data).fit()\n",
    "print(result.summary())"
   ]
  },
  {
   "cell_type": "code",
   "execution_count": 10,
   "metadata": {},
   "outputs": [
    {
     "data": {
      "text/html": [
       "<div>\n",
       "<style scoped>\n",
       "    .dataframe tbody tr th:only-of-type {\n",
       "        vertical-align: middle;\n",
       "    }\n",
       "\n",
       "    .dataframe tbody tr th {\n",
       "        vertical-align: top;\n",
       "    }\n",
       "\n",
       "    .dataframe thead th {\n",
       "        text-align: right;\n",
       "    }\n",
       "</style>\n",
       "<table border=\"1\" class=\"dataframe\">\n",
       "  <thead>\n",
       "    <tr style=\"text-align: right;\">\n",
       "      <th></th>\n",
       "      <th>beta0</th>\n",
       "      <th>beta1</th>\n",
       "      <th>beta2</th>\n",
       "    </tr>\n",
       "  </thead>\n",
       "  <tbody>\n",
       "    <tr>\n",
       "      <th>True</th>\n",
       "      <td>2.0000</td>\n",
       "      <td>2.0000</td>\n",
       "      <td>0.3000</td>\n",
       "    </tr>\n",
       "    <tr>\n",
       "      <th>Predicted</th>\n",
       "      <td>1.8158</td>\n",
       "      <td>2.0758</td>\n",
       "      <td>0.7584</td>\n",
       "    </tr>\n",
       "  </tbody>\n",
       "</table>\n",
       "</div>"
      ],
      "text/plain": [
       "            beta0   beta1   beta2\n",
       "True       2.0000  2.0000  0.3000\n",
       "Predicted  1.8158  2.0758  0.7584"
      ]
     },
     "execution_count": 10,
     "metadata": {},
     "output_type": "execute_result"
    }
   ],
   "source": [
    "\n",
    "tmp = pd.DataFrame({'beta0':[2,1.8158],'beta1':[2,2.0758],'beta2':[0.3,0.7584]}) \n",
    "tmp.index = ['True','Predicted']\n",
    "tmp"
   ]
  },
  {
   "cell_type": "code",
   "execution_count": 11,
   "metadata": {},
   "outputs": [],
   "source": [
    "# since the predicted values for beta1  and beta2 are != 0. We reject the null hypothese for both the cases."
   ]
  },
  {
   "cell_type": "markdown",
   "metadata": {},
   "source": [
    "## (d) Now fit a least squares regression to predict y using only x1. Comment on your results. Can you reject the null hypothesis H0 : β1 = 0?"
   ]
  },
  {
   "cell_type": "code",
   "execution_count": 12,
   "metadata": {},
   "outputs": [
    {
     "name": "stdout",
     "output_type": "stream",
     "text": [
      "                            OLS Regression Results                            \n",
      "==============================================================================\n",
      "Dep. Variable:                      y   R-squared:                       0.439\n",
      "Model:                            OLS   Adj. R-squared:                  0.433\n",
      "Method:                 Least Squares   F-statistic:                     76.72\n",
      "Date:                Fri, 16 Oct 2020   Prob (F-statistic):           5.93e-14\n",
      "Time:                        22:03:10   Log-Likelihood:                -124.11\n",
      "No. Observations:                 100   AIC:                             252.2\n",
      "Df Residuals:                      98   BIC:                             257.4\n",
      "Df Model:                           1                                         \n",
      "Covariance Type:            nonrobust                                         \n",
      "==============================================================================\n",
      "                 coef    std err          t      P>|t|      [0.025      0.975]\n",
      "------------------------------------------------------------------------------\n",
      "Intercept      1.8229      0.161     11.295      0.000       1.503       2.143\n",
      "X1             2.4468      0.279      8.759      0.000       1.892       3.001\n",
      "==============================================================================\n",
      "Omnibus:                        0.357   Durbin-Watson:                   1.986\n",
      "Prob(Omnibus):                  0.836   Jarque-Bera (JB):                0.272\n",
      "Skew:                          -0.127   Prob(JB):                        0.873\n",
      "Kurtosis:                       2.963   Cond. No.                         4.17\n",
      "==============================================================================\n",
      "\n",
      "Warnings:\n",
      "[1] Standard Errors assume that the covariance matrix of the errors is correctly specified.\n"
     ]
    }
   ],
   "source": [
    "result = smf.ols('y~X1',data = data).fit()\n",
    "print(result.summary())"
   ]
  },
  {
   "cell_type": "code",
   "execution_count": 13,
   "metadata": {},
   "outputs": [],
   "source": [
    "# since beta1 != 0, we reject the null hypotheses, also p value is 0."
   ]
  },
  {
   "cell_type": "markdown",
   "metadata": {},
   "source": [
    "## e) Now fit a least squares regression to predict y using only x2. Comment on your results. Can you reject the null hypothesis H0 : β1 = 0?"
   ]
  },
  {
   "cell_type": "code",
   "execution_count": 14,
   "metadata": {},
   "outputs": [
    {
     "name": "stdout",
     "output_type": "stream",
     "text": [
      "                            OLS Regression Results                            \n",
      "==============================================================================\n",
      "Dep. Variable:                      y   R-squared:                       0.340\n",
      "Model:                            OLS   Adj. R-squared:                  0.333\n",
      "Method:                 Least Squares   F-statistic:                     50.53\n",
      "Date:                Fri, 16 Oct 2020   Prob (F-statistic):           1.92e-10\n",
      "Time:                        22:03:44   Log-Likelihood:                -132.23\n",
      "No. Observations:                 100   AIC:                             268.5\n",
      "Df Residuals:                      98   BIC:                             273.7\n",
      "Df Model:                           1                                         \n",
      "Covariance Type:            nonrobust                                         \n",
      "==============================================================================\n",
      "                 coef    std err          t      P>|t|      [0.025      0.975]\n",
      "------------------------------------------------------------------------------\n",
      "Intercept      2.1250      0.157     13.572      0.000       1.814       2.436\n",
      "X2             3.6070      0.507      7.108      0.000       2.600       4.614\n",
      "==============================================================================\n",
      "Omnibus:                        1.537   Durbin-Watson:                   1.828\n",
      "Prob(Omnibus):                  0.464   Jarque-Bera (JB):                1.597\n",
      "Skew:                          -0.272   Prob(JB):                        0.450\n",
      "Kurtosis:                       2.704   Cond. No.                         5.89\n",
      "==============================================================================\n",
      "\n",
      "Warnings:\n",
      "[1] Standard Errors assume that the covariance matrix of the errors is correctly specified.\n"
     ]
    }
   ],
   "source": [
    "\n",
    "result = smf.ols('y~X2',data = data).fit()\n",
    "print(result.summary())"
   ]
  },
  {
   "cell_type": "code",
   "execution_count": 15,
   "metadata": {},
   "outputs": [],
   "source": [
    "# we reject the null hypothses, as coef != 0"
   ]
  },
  {
   "cell_type": "code",
   "execution_count": 16,
   "metadata": {},
   "outputs": [],
   "source": [
    "# No, we can't say that the reults are contradicting each other. In the combined model in (c), the two predictors were \n",
    "# highly correlated, (that's how they were created, x2 is depencdent on x), and due to this collinearity effect, the \n",
    "# one of the predictors is not able to expain the results. While when we use separate models, there is no concept of collunearity."
   ]
  },
  {
   "cell_type": "code",
   "execution_count": 17,
   "metadata": {},
   "outputs": [],
   "source": [
    "x1 = np.append(x1,0.1)\n",
    "x2 = np.append(x2,0.8)\n",
    "y = np.append(y,6)"
   ]
  },
  {
   "cell_type": "code",
   "execution_count": 18,
   "metadata": {},
   "outputs": [],
   "source": [
    "data = pd.DataFrame({'X1':x1,'X2':x2,'y':y})"
   ]
  },
  {
   "cell_type": "code",
   "execution_count": 19,
   "metadata": {},
   "outputs": [],
   "source": [
    "# we can make a point here, that for x1, the value 0.1 is within the range of earlier value, however\n",
    "# for x2 and y, 0.8 and 6, respecively, are outliers."
   ]
  },
  {
   "cell_type": "code",
   "execution_count": 20,
   "metadata": {},
   "outputs": [
    {
     "data": {
      "text/plain": [
       "<matplotlib.axes._subplots.AxesSubplot at 0x2dfc9cbca88>"
      ]
     },
     "execution_count": 20,
     "metadata": {},
     "output_type": "execute_result"
    },
    {
     "data": {
      "image/png": "[encoded data removed]",
      "text/plain": [
       "<Figure size 432x288 with 1 Axes>"
      ]
     },
     "metadata": {
      "needs_background": "light"
     },
     "output_type": "display_data"
    }
   ],
   "source": [
    "sns.scatterplot(data['X1'],data['X2'])"
   ]
  },
  {
   "cell_type": "code",
   "execution_count": 21,
   "metadata": {},
   "outputs": [],
   "source": [
    "# we can see the newly added data point is an outlier, is separately located from the others."
   ]
  },
  {
   "cell_type": "code",
   "execution_count": 22,
   "metadata": {},
   "outputs": [
    {
     "name": "stdout",
     "output_type": "stream",
     "text": [
      "                            OLS Regression Results                            \n",
      "==============================================================================\n",
      "Dep. Variable:                      y   R-squared:                       0.425\n",
      "Model:                            OLS   Adj. R-squared:                  0.414\n",
      "Method:                 Least Squares   F-statistic:                     36.26\n",
      "Date:                Fri, 16 Oct 2020   Prob (F-statistic):           1.64e-12\n",
      "Time:                        22:06:27   Log-Likelihood:                -129.50\n",
      "No. Observations:                 101   AIC:                             265.0\n",
      "Df Residuals:                      98   BIC:                             272.8\n",
      "Df Model:                           2                                         \n",
      "Covariance Type:            nonrobust                                         \n",
      "==============================================================================\n",
      "                 coef    std err          t      P>|t|      [0.025      0.975]\n",
      "------------------------------------------------------------------------------\n",
      "Intercept      1.8697      0.168     11.111      0.000       1.536       2.204\n",
      "X1             1.2421      0.432      2.876      0.005       0.385       2.099\n",
      "X2             2.2711      0.698      3.254      0.002       0.886       3.656\n",
      "==============================================================================\n",
      "Omnibus:                        0.673   Durbin-Watson:                   1.803\n",
      "Prob(Omnibus):                  0.714   Jarque-Bera (JB):                0.465\n",
      "Skew:                          -0.165   Prob(JB):                        0.792\n",
      "Kurtosis:                       3.035   Cond. No.                         10.2\n",
      "==============================================================================\n",
      "\n",
      "Warnings:\n",
      "[1] Standard Errors assume that the covariance matrix of the errors is correctly specified.\n"
     ]
    }
   ],
   "source": [
    "result = smf.ols('y~X1 + X2',data = data).fit()\n",
    "print(result.summary())"
   ]
  },
  {
   "cell_type": "code",
   "execution_count": 23,
   "metadata": {},
   "outputs": [
    {
     "name": "stdout",
     "output_type": "stream",
     "text": [
      "                            OLS Regression Results                            \n",
      "==============================================================================\n",
      "Dep. Variable:                      y   R-squared:                       0.363\n",
      "Model:                            OLS   Adj. R-squared:                  0.357\n",
      "Method:                 Least Squares   F-statistic:                     56.46\n",
      "Date:                Fri, 16 Oct 2020   Prob (F-statistic):           2.60e-11\n",
      "Time:                        22:06:42   Log-Likelihood:                -134.68\n",
      "No. Observations:                 101   AIC:                             273.4\n",
      "Df Residuals:                      99   BIC:                             278.6\n",
      "Df Model:                           1                                         \n",
      "Covariance Type:            nonrobust                                         \n",
      "==============================================================================\n",
      "                 coef    std err          t      P>|t|      [0.025      0.975]\n",
      "------------------------------------------------------------------------------\n",
      "Intercept      1.9419      0.175     11.116      0.000       1.595       2.288\n",
      "X1             2.2829      0.304      7.514      0.000       1.680       2.886\n",
      "==============================================================================\n",
      "Omnibus:                       12.832   Durbin-Watson:                   1.773\n",
      "Prob(Omnibus):                  0.002   Jarque-Bera (JB):               21.470\n",
      "Skew:                           0.522   Prob(JB):                     2.18e-05\n",
      "Kurtosis:                       5.003   Cond. No.                         4.14\n",
      "==============================================================================\n",
      "\n",
      "Warnings:\n",
      "[1] Standard Errors assume that the covariance matrix of the errors is correctly specified.\n"
     ]
    }
   ],
   "source": [
    "result = smf.ols('y~X1',data = data).fit()\n",
    "print(result.summary())"
   ]
  },
  {
   "cell_type": "code",
   "execution_count": 24,
   "metadata": {},
   "outputs": [
    {
     "data": {
      "text/plain": [
       "<matplotlib.axes._subplots.AxesSubplot at 0x2dfca1a4488>"
      ]
     },
     "execution_count": 24,
     "metadata": {},
     "output_type": "execute_result"
    },
    {
     "data": {
      "image/png": "[encoded data removed]",
      "text/plain": [
       "<Figure size 432x288 with 1 Axes>"
      ]
     },
     "metadata": {
      "needs_background": "light"
     },
     "output_type": "display_data"
    }
   ],
   "source": [
    "\n",
    "sns.regplot(data['X1'],data['y'])\n",
    "# in this case, the point is 'outlier, since it has a very high value of y'"
   ]
  },
  {
   "cell_type": "code",
   "execution_count": 25,
   "metadata": {},
   "outputs": [
    {
     "name": "stdout",
     "output_type": "stream",
     "text": [
      "                            OLS Regression Results                            \n",
      "==============================================================================\n",
      "Dep. Variable:                      y   R-squared:                       0.377\n",
      "Model:                            OLS   Adj. R-squared:                  0.370\n",
      "Method:                 Least Squares   F-statistic:                     59.84\n",
      "Date:                Fri, 16 Oct 2020   Prob (F-statistic):           8.79e-12\n",
      "Time:                        22:07:21   Log-Likelihood:                -133.59\n",
      "No. Observations:                 101   AIC:                             271.2\n",
      "Df Residuals:                      99   BIC:                             276.4\n",
      "Df Model:                           1                                         \n",
      "Covariance Type:            nonrobust                                         \n",
      "==============================================================================\n",
      "                 coef    std err          t      P>|t|      [0.025      0.975]\n",
      "------------------------------------------------------------------------------\n",
      "Intercept      2.0962      0.154     13.604      0.000       1.790       2.402\n",
      "X2             3.7581      0.486      7.736      0.000       2.794       4.722\n",
      "==============================================================================\n",
      "Omnibus:                        1.784   Durbin-Watson:                   1.803\n",
      "Prob(Omnibus):                  0.410   Jarque-Bera (JB):                1.826\n",
      "Skew:                          -0.299   Prob(JB):                        0.401\n",
      "Kurtosis:                       2.726   Cond. No.                         5.68\n",
      "==============================================================================\n",
      "\n",
      "Warnings:\n",
      "[1] Standard Errors assume that the covariance matrix of the errors is correctly specified.\n"
     ]
    }
   ],
   "source": [
    "result = smf.ols('y ~ X2',data = data).fit()\n",
    "print(result.summary())"
   ]
  },
  {
   "cell_type": "code",
   "execution_count": 26,
   "metadata": {},
   "outputs": [
    {
     "data": {
      "text/plain": [
       "<matplotlib.axes._subplots.AxesSubplot at 0x2dfca68f9c8>"
      ]
     },
     "execution_count": 26,
     "metadata": {},
     "output_type": "execute_result"
    },
    {
     "data": {
      "image/png": "[encoded data removed]",
      "text/plain": [
       "<Figure size 432x288 with 1 Axes>"
      ]
     },
     "metadata": {
      "needs_background": "light"
     },
     "output_type": "display_data"
    }
   ],
   "source": [
    "sns.regplot(data['X2'],data['y'])\n",
    "# in this case, the righmost point tends to follow the general trend, but is far away from the distribtuion, \n",
    "# so, it is a high leverage point"
   ]
  },
  {
   "cell_type": "code",
   "execution_count": null,
   "metadata": {},
   "outputs": [],
   "source": []
  }
 ],
 "metadata": {
  "kernelspec": {
   "display_name": "Python 3",
   "language": "python",
   "name": "python3"
  },
  "language_info": {
   "codemirror_mode": {
    "name": "ipython",
    "version": 3
   },
   "file_extension": ".py",
   "mimetype": "text/x-python",
   "name": "python",
   "nbconvert_exporter": "python",
   "pygments_lexer": "ipython3",
   "version": "3.7.6"
  }
 },
 "nbformat": 4,
 "nbformat_minor": 4
}
